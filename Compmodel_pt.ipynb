{
  "nbformat": 4,
  "nbformat_minor": 0,
  "metadata": {
    "colab": {
      "provenance": [],
      "gpuType": "T4",
      "authorship_tag": "ABX9TyOyHnwWXo8jKU9w5bmpYC2C",
      "include_colab_link": true
    },
    "kernelspec": {
      "name": "python3",
      "display_name": "Python 3"
    },
    "language_info": {
      "name": "python"
    },
    "accelerator": "GPU"
  },
  "cells": [
    {
      "cell_type": "markdown",
      "metadata": {
        "id": "view-in-github",
        "colab_type": "text"
      },
      "source": [
        "<a href=\"https://colab.research.google.com/github/maruf9911/Apple_detectionYOLOV8/blob/main/Compmodel_pt.ipynb\" target=\"_parent\"><img src=\"https://colab.research.google.com/assets/colab-badge.svg\" alt=\"Open In Colab\"/></a>"
      ]
    },
    {
      "cell_type": "code",
      "execution_count": 1,
      "metadata": {
        "colab": {
          "base_uri": "https://localhost:8080/"
        },
        "id": "W-alsxMKM_2b",
        "outputId": "4e3bc130-acaa-471f-cb84-5620310a7224"
      },
      "outputs": [
        {
          "output_type": "stream",
          "name": "stdout",
          "text": [
            "Collecting ultralytics\n",
            "  Downloading ultralytics-8.0.223-py3-none-any.whl (659 kB)\n",
            "\u001b[?25l     \u001b[90m━━━━━━━━━━━━━━━━━━━━━━━━━━━━━━━━━━━━━━━━\u001b[0m \u001b[32m0.0/659.4 kB\u001b[0m \u001b[31m?\u001b[0m eta \u001b[36m-:--:--\u001b[0m\r\u001b[2K     \u001b[91m━━━━━━━━━━━━\u001b[0m\u001b[90m╺\u001b[0m\u001b[90m━━━━━━━━━━━━━━━━━━━━━━━━━━━\u001b[0m \u001b[32m204.8/659.4 kB\u001b[0m \u001b[31m5.9 MB/s\u001b[0m eta \u001b[36m0:00:01\u001b[0m\r\u001b[2K     \u001b[90m━━━━━━━━━━━━━━━━━━━━━━━━━━━━━━━━━━━━━━━━\u001b[0m \u001b[32m659.4/659.4 kB\u001b[0m \u001b[31m13.3 MB/s\u001b[0m eta \u001b[36m0:00:00\u001b[0m\n",
            "\u001b[?25hRequirement already satisfied: matplotlib>=3.3.0 in /usr/local/lib/python3.10/dist-packages (from ultralytics) (3.7.1)\n",
            "Requirement already satisfied: numpy>=1.22.2 in /usr/local/lib/python3.10/dist-packages (from ultralytics) (1.23.5)\n",
            "Requirement already satisfied: opencv-python>=4.6.0 in /usr/local/lib/python3.10/dist-packages (from ultralytics) (4.8.0.76)\n",
            "Requirement already satisfied: pillow>=7.1.2 in /usr/local/lib/python3.10/dist-packages (from ultralytics) (9.4.0)\n",
            "Requirement already satisfied: pyyaml>=5.3.1 in /usr/local/lib/python3.10/dist-packages (from ultralytics) (6.0.1)\n",
            "Requirement already satisfied: requests>=2.23.0 in /usr/local/lib/python3.10/dist-packages (from ultralytics) (2.31.0)\n",
            "Requirement already satisfied: scipy>=1.4.1 in /usr/local/lib/python3.10/dist-packages (from ultralytics) (1.11.4)\n",
            "Requirement already satisfied: torch>=1.8.0 in /usr/local/lib/python3.10/dist-packages (from ultralytics) (2.1.0+cu118)\n",
            "Requirement already satisfied: torchvision>=0.9.0 in /usr/local/lib/python3.10/dist-packages (from ultralytics) (0.16.0+cu118)\n",
            "Requirement already satisfied: tqdm>=4.64.0 in /usr/local/lib/python3.10/dist-packages (from ultralytics) (4.66.1)\n",
            "Requirement already satisfied: pandas>=1.1.4 in /usr/local/lib/python3.10/dist-packages (from ultralytics) (1.5.3)\n",
            "Requirement already satisfied: seaborn>=0.11.0 in /usr/local/lib/python3.10/dist-packages (from ultralytics) (0.12.2)\n",
            "Requirement already satisfied: psutil in /usr/local/lib/python3.10/dist-packages (from ultralytics) (5.9.5)\n",
            "Requirement already satisfied: py-cpuinfo in /usr/local/lib/python3.10/dist-packages (from ultralytics) (9.0.0)\n",
            "Collecting thop>=0.1.1 (from ultralytics)\n",
            "  Downloading thop-0.1.1.post2209072238-py3-none-any.whl (15 kB)\n",
            "Requirement already satisfied: contourpy>=1.0.1 in /usr/local/lib/python3.10/dist-packages (from matplotlib>=3.3.0->ultralytics) (1.2.0)\n",
            "Requirement already satisfied: cycler>=0.10 in /usr/local/lib/python3.10/dist-packages (from matplotlib>=3.3.0->ultralytics) (0.12.1)\n",
            "Requirement already satisfied: fonttools>=4.22.0 in /usr/local/lib/python3.10/dist-packages (from matplotlib>=3.3.0->ultralytics) (4.45.1)\n",
            "Requirement already satisfied: kiwisolver>=1.0.1 in /usr/local/lib/python3.10/dist-packages (from matplotlib>=3.3.0->ultralytics) (1.4.5)\n",
            "Requirement already satisfied: packaging>=20.0 in /usr/local/lib/python3.10/dist-packages (from matplotlib>=3.3.0->ultralytics) (23.2)\n",
            "Requirement already satisfied: pyparsing>=2.3.1 in /usr/local/lib/python3.10/dist-packages (from matplotlib>=3.3.0->ultralytics) (3.1.1)\n",
            "Requirement already satisfied: python-dateutil>=2.7 in /usr/local/lib/python3.10/dist-packages (from matplotlib>=3.3.0->ultralytics) (2.8.2)\n",
            "Requirement already satisfied: pytz>=2020.1 in /usr/local/lib/python3.10/dist-packages (from pandas>=1.1.4->ultralytics) (2023.3.post1)\n",
            "Requirement already satisfied: charset-normalizer<4,>=2 in /usr/local/lib/python3.10/dist-packages (from requests>=2.23.0->ultralytics) (3.3.2)\n",
            "Requirement already satisfied: idna<4,>=2.5 in /usr/local/lib/python3.10/dist-packages (from requests>=2.23.0->ultralytics) (3.6)\n",
            "Requirement already satisfied: urllib3<3,>=1.21.1 in /usr/local/lib/python3.10/dist-packages (from requests>=2.23.0->ultralytics) (2.0.7)\n",
            "Requirement already satisfied: certifi>=2017.4.17 in /usr/local/lib/python3.10/dist-packages (from requests>=2.23.0->ultralytics) (2023.11.17)\n",
            "Requirement already satisfied: filelock in /usr/local/lib/python3.10/dist-packages (from torch>=1.8.0->ultralytics) (3.13.1)\n",
            "Requirement already satisfied: typing-extensions in /usr/local/lib/python3.10/dist-packages (from torch>=1.8.0->ultralytics) (4.5.0)\n",
            "Requirement already satisfied: sympy in /usr/local/lib/python3.10/dist-packages (from torch>=1.8.0->ultralytics) (1.12)\n",
            "Requirement already satisfied: networkx in /usr/local/lib/python3.10/dist-packages (from torch>=1.8.0->ultralytics) (3.2.1)\n",
            "Requirement already satisfied: jinja2 in /usr/local/lib/python3.10/dist-packages (from torch>=1.8.0->ultralytics) (3.1.2)\n",
            "Requirement already satisfied: fsspec in /usr/local/lib/python3.10/dist-packages (from torch>=1.8.0->ultralytics) (2023.6.0)\n",
            "Requirement already satisfied: triton==2.1.0 in /usr/local/lib/python3.10/dist-packages (from torch>=1.8.0->ultralytics) (2.1.0)\n",
            "Requirement already satisfied: six>=1.5 in /usr/local/lib/python3.10/dist-packages (from python-dateutil>=2.7->matplotlib>=3.3.0->ultralytics) (1.16.0)\n",
            "Requirement already satisfied: MarkupSafe>=2.0 in /usr/local/lib/python3.10/dist-packages (from jinja2->torch>=1.8.0->ultralytics) (2.1.3)\n",
            "Requirement already satisfied: mpmath>=0.19 in /usr/local/lib/python3.10/dist-packages (from sympy->torch>=1.8.0->ultralytics) (1.3.0)\n",
            "Installing collected packages: thop, ultralytics\n",
            "Successfully installed thop-0.1.1.post2209072238 ultralytics-8.0.223\n"
          ]
        }
      ],
      "source": [
        "!pip install ultralytics"
      ]
    },
    {
      "cell_type": "code",
      "source": [
        "from ultralytics import YOLO\n",
        "import os\n",
        "from IPython.display import display, Image\n",
        "from IPython import display\n",
        "display.clear_output()\n",
        "!yolo mode=checks\n",
        "\n",
        "\n"
      ],
      "metadata": {
        "colab": {
          "base_uri": "https://localhost:8080/"
        },
        "id": "99s4mPy8NZk6",
        "outputId": "bc61c060-0a6c-4d58-8a11-4da00972daeb"
      },
      "execution_count": 2,
      "outputs": [
        {
          "output_type": "stream",
          "name": "stdout",
          "text": [
            "Traceback (most recent call last):\n",
            "  File \"/usr/local/bin/yolo\", line 8, in <module>\n",
            "    sys.exit(entrypoint())\n",
            "  File \"/usr/local/lib/python3.10/dist-packages/ultralytics/cfg/__init__.py\", line 395, in entrypoint\n",
            "    raise ValueError(f\"Invalid 'mode={mode}'. Valid modes are {MODES}.\\n{CLI_HELP_MSG}\")\n",
            "ValueError: Invalid 'mode=<module 'ultralytics.utils.checks' from '/usr/local/lib/python3.10/dist-packages/ultralytics/utils/checks.py'>'. Valid modes are ('train', 'val', 'predict', 'export', 'track', 'benchmark').\n",
            "\n",
            "    Arguments received: ['yolo', 'mode=checks']. Ultralytics 'yolo' commands use the following syntax:\n",
            "\n",
            "        yolo TASK MODE ARGS\n",
            "\n",
            "        Where   TASK (optional) is one of ('detect', 'segment', 'classify', 'pose')\n",
            "                MODE (required) is one of ('train', 'val', 'predict', 'export', 'track', 'benchmark')\n",
            "                ARGS (optional) are any number of custom 'arg=value' pairs like 'imgsz=320' that override defaults.\n",
            "                    See all ARGS at https://docs.ultralytics.com/usage/cfg or with 'yolo cfg'\n",
            "\n",
            "    1. Train a detection model for 10 epochs with an initial learning_rate of 0.01\n",
            "        yolo train data=coco128.yaml model=yolov8n.pt epochs=10 lr0=0.01\n",
            "\n",
            "    2. Predict a YouTube video using a pretrained segmentation model at image size 320:\n",
            "        yolo predict model=yolov8n-seg.pt source='https://youtu.be/LNwODJXcvt4' imgsz=320\n",
            "\n",
            "    3. Val a pretrained detection model at batch-size 1 and image size 640:\n",
            "        yolo val model=yolov8n.pt data=coco128.yaml batch=1 imgsz=640\n",
            "\n",
            "    4. Export a YOLOv8n classification model to ONNX format at image size 224 by 128 (no TASK required)\n",
            "        yolo export model=yolov8n-cls.pt format=onnx imgsz=224,128\n",
            "\n",
            "    5. Run special commands:\n",
            "        yolo help\n",
            "        yolo checks\n",
            "        yolo version\n",
            "        yolo settings\n",
            "        yolo copy-cfg\n",
            "        yolo cfg\n",
            "\n",
            "    Docs: https://docs.ultralytics.com\n",
            "    Community: https://community.ultralytics.com\n",
            "    GitHub: https://github.com/ultralytics/ultralytics\n",
            "    \n"
          ]
        }
      ]
    },
    {
      "cell_type": "code",
      "source": [
        "!pip install roboflow\n",
        "\n",
        "from roboflow import Roboflow\n",
        "rf = Roboflow(api_key=\"3gTgbuoqfI4V25XRZp8O\")\n",
        "project = rf.workspace(\"lakshantha-dissanayake\").project(\"apple-detection-5z37o\")\n",
        "dataset = project.version(1).download(\"yolov8\")\n"
      ],
      "metadata": {
        "colab": {
          "base_uri": "https://localhost:8080/",
          "height": 1000
        },
        "id": "_4QM72UrOHSM",
        "outputId": "633ba4d3-547c-4278-fb24-498f747d5ee9"
      },
      "execution_count": 3,
      "outputs": [
        {
          "output_type": "stream",
          "name": "stdout",
          "text": [
            "Collecting roboflow\n",
            "  Downloading roboflow-1.1.12-py3-none-any.whl (68 kB)\n",
            "\u001b[2K     \u001b[90m━━━━━━━━━━━━━━━━━━━━━━━━━━━━━━━━━━━━━━━━\u001b[0m \u001b[32m68.5/68.5 kB\u001b[0m \u001b[31m1.7 MB/s\u001b[0m eta \u001b[36m0:00:00\u001b[0m\n",
            "\u001b[?25hCollecting certifi==2023.7.22 (from roboflow)\n",
            "  Downloading certifi-2023.7.22-py3-none-any.whl (158 kB)\n",
            "\u001b[2K     \u001b[90m━━━━━━━━━━━━━━━━━━━━━━━━━━━━━━━━━━━━━━━━\u001b[0m \u001b[32m158.3/158.3 kB\u001b[0m \u001b[31m9.2 MB/s\u001b[0m eta \u001b[36m0:00:00\u001b[0m\n",
            "\u001b[?25hCollecting chardet==4.0.0 (from roboflow)\n",
            "  Downloading chardet-4.0.0-py2.py3-none-any.whl (178 kB)\n",
            "\u001b[2K     \u001b[90m━━━━━━━━━━━━━━━━━━━━━━━━━━━━━━━━━━━━━━━━\u001b[0m \u001b[32m178.7/178.7 kB\u001b[0m \u001b[31m23.6 MB/s\u001b[0m eta \u001b[36m0:00:00\u001b[0m\n",
            "\u001b[?25hCollecting cycler==0.10.0 (from roboflow)\n",
            "  Downloading cycler-0.10.0-py2.py3-none-any.whl (6.5 kB)\n",
            "Collecting idna==2.10 (from roboflow)\n",
            "  Downloading idna-2.10-py2.py3-none-any.whl (58 kB)\n",
            "\u001b[2K     \u001b[90m━━━━━━━━━━━━━━━━━━━━━━━━━━━━━━━━━━━━━━━━\u001b[0m \u001b[32m58.8/58.8 kB\u001b[0m \u001b[31m10.1 MB/s\u001b[0m eta \u001b[36m0:00:00\u001b[0m\n",
            "\u001b[?25hRequirement already satisfied: kiwisolver>=1.3.1 in /usr/local/lib/python3.10/dist-packages (from roboflow) (1.4.5)\n",
            "Requirement already satisfied: matplotlib in /usr/local/lib/python3.10/dist-packages (from roboflow) (3.7.1)\n",
            "Requirement already satisfied: numpy>=1.18.5 in /usr/local/lib/python3.10/dist-packages (from roboflow) (1.23.5)\n",
            "Collecting opencv-python-headless==4.8.0.74 (from roboflow)\n",
            "  Downloading opencv_python_headless-4.8.0.74-cp37-abi3-manylinux_2_17_x86_64.manylinux2014_x86_64.whl (49.1 MB)\n",
            "\u001b[2K     \u001b[90m━━━━━━━━━━━━━━━━━━━━━━━━━━━━━━━━━━━━━━━━\u001b[0m \u001b[32m49.1/49.1 MB\u001b[0m \u001b[31m18.6 MB/s\u001b[0m eta \u001b[36m0:00:00\u001b[0m\n",
            "\u001b[?25hRequirement already satisfied: Pillow>=7.1.2 in /usr/local/lib/python3.10/dist-packages (from roboflow) (9.4.0)\n",
            "Collecting pyparsing==2.4.7 (from roboflow)\n",
            "  Downloading pyparsing-2.4.7-py2.py3-none-any.whl (67 kB)\n",
            "\u001b[2K     \u001b[90m━━━━━━━━━━━━━━━━━━━━━━━━━━━━━━━━━━━━━━━━\u001b[0m \u001b[32m67.8/67.8 kB\u001b[0m \u001b[31m9.4 MB/s\u001b[0m eta \u001b[36m0:00:00\u001b[0m\n",
            "\u001b[?25hRequirement already satisfied: python-dateutil in /usr/local/lib/python3.10/dist-packages (from roboflow) (2.8.2)\n",
            "Collecting python-dotenv (from roboflow)\n",
            "  Downloading python_dotenv-1.0.0-py3-none-any.whl (19 kB)\n",
            "Requirement already satisfied: requests in /usr/local/lib/python3.10/dist-packages (from roboflow) (2.31.0)\n",
            "Requirement already satisfied: six in /usr/local/lib/python3.10/dist-packages (from roboflow) (1.16.0)\n",
            "Collecting supervision (from roboflow)\n",
            "  Downloading supervision-0.17.0-py3-none-any.whl (77 kB)\n",
            "\u001b[2K     \u001b[90m━━━━━━━━━━━━━━━━━━━━━━━━━━━━━━━━━━━━━━━━\u001b[0m \u001b[32m77.6/77.6 kB\u001b[0m \u001b[31m12.3 MB/s\u001b[0m eta \u001b[36m0:00:00\u001b[0m\n",
            "\u001b[?25hRequirement already satisfied: urllib3>=1.26.6 in /usr/local/lib/python3.10/dist-packages (from roboflow) (2.0.7)\n",
            "Requirement already satisfied: tqdm>=4.41.0 in /usr/local/lib/python3.10/dist-packages (from roboflow) (4.66.1)\n",
            "Requirement already satisfied: PyYAML>=5.3.1 in /usr/local/lib/python3.10/dist-packages (from roboflow) (6.0.1)\n",
            "Collecting requests-toolbelt (from roboflow)\n",
            "  Downloading requests_toolbelt-1.0.0-py2.py3-none-any.whl (54 kB)\n",
            "\u001b[2K     \u001b[90m━━━━━━━━━━━━━━━━━━━━━━━━━━━━━━━━━━━━━━━━\u001b[0m \u001b[32m54.5/54.5 kB\u001b[0m \u001b[31m8.4 MB/s\u001b[0m eta \u001b[36m0:00:00\u001b[0m\n",
            "\u001b[?25hCollecting python-magic (from roboflow)\n",
            "  Downloading python_magic-0.4.27-py2.py3-none-any.whl (13 kB)\n",
            "Requirement already satisfied: contourpy>=1.0.1 in /usr/local/lib/python3.10/dist-packages (from matplotlib->roboflow) (1.2.0)\n",
            "Requirement already satisfied: fonttools>=4.22.0 in /usr/local/lib/python3.10/dist-packages (from matplotlib->roboflow) (4.45.1)\n",
            "Requirement already satisfied: packaging>=20.0 in /usr/local/lib/python3.10/dist-packages (from matplotlib->roboflow) (23.2)\n",
            "Requirement already satisfied: charset-normalizer<4,>=2 in /usr/local/lib/python3.10/dist-packages (from requests->roboflow) (3.3.2)\n",
            "Requirement already satisfied: scipy<=2.0.0,>=1.9.0 in /usr/local/lib/python3.10/dist-packages (from supervision->roboflow) (1.11.4)\n",
            "Installing collected packages: python-magic, python-dotenv, pyparsing, opencv-python-headless, idna, cycler, chardet, certifi, supervision, requests-toolbelt, roboflow\n",
            "  Attempting uninstall: pyparsing\n",
            "    Found existing installation: pyparsing 3.1.1\n",
            "    Uninstalling pyparsing-3.1.1:\n",
            "      Successfully uninstalled pyparsing-3.1.1\n",
            "  Attempting uninstall: opencv-python-headless\n",
            "    Found existing installation: opencv-python-headless 4.8.1.78\n",
            "    Uninstalling opencv-python-headless-4.8.1.78:\n",
            "      Successfully uninstalled opencv-python-headless-4.8.1.78\n",
            "  Attempting uninstall: idna\n",
            "    Found existing installation: idna 3.6\n",
            "    Uninstalling idna-3.6:\n",
            "      Successfully uninstalled idna-3.6\n",
            "  Attempting uninstall: cycler\n",
            "    Found existing installation: cycler 0.12.1\n",
            "    Uninstalling cycler-0.12.1:\n",
            "      Successfully uninstalled cycler-0.12.1\n",
            "  Attempting uninstall: chardet\n",
            "    Found existing installation: chardet 5.2.0\n",
            "    Uninstalling chardet-5.2.0:\n",
            "      Successfully uninstalled chardet-5.2.0\n",
            "  Attempting uninstall: certifi\n",
            "    Found existing installation: certifi 2023.11.17\n",
            "    Uninstalling certifi-2023.11.17:\n",
            "      Successfully uninstalled certifi-2023.11.17\n",
            "\u001b[31mERROR: pip's dependency resolver does not currently take into account all the packages that are installed. This behaviour is the source of the following dependency conflicts.\n",
            "lida 0.0.10 requires fastapi, which is not installed.\n",
            "lida 0.0.10 requires kaleido, which is not installed.\n",
            "lida 0.0.10 requires python-multipart, which is not installed.\n",
            "lida 0.0.10 requires uvicorn, which is not installed.\u001b[0m\u001b[31m\n",
            "\u001b[0mSuccessfully installed certifi-2023.7.22 chardet-4.0.0 cycler-0.10.0 idna-2.10 opencv-python-headless-4.8.0.74 pyparsing-2.4.7 python-dotenv-1.0.0 python-magic-0.4.27 requests-toolbelt-1.0.0 roboflow-1.1.12 supervision-0.17.0\n"
          ]
        },
        {
          "output_type": "display_data",
          "data": {
            "application/vnd.colab-display-data+json": {
              "pip_warning": {
                "packages": [
                  "certifi",
                  "chardet",
                  "cv2",
                  "cycler",
                  "idna",
                  "pyparsing"
                ]
              }
            }
          },
          "metadata": {}
        },
        {
          "output_type": "stream",
          "name": "stdout",
          "text": [
            "loading Roboflow workspace...\n",
            "loading Roboflow project...\n",
            "Dependency ultralytics==8.0.196 is required but found version=8.0.223, to fix: `pip install ultralytics==8.0.196`\n"
          ]
        },
        {
          "output_type": "stream",
          "name": "stderr",
          "text": [
            "Downloading Dataset Version Zip in Apple-Detection-1 to yolov8:: 100%|██████████| 5318/5318 [00:01<00:00, 3778.97it/s]"
          ]
        },
        {
          "output_type": "stream",
          "name": "stdout",
          "text": [
            "\n"
          ]
        },
        {
          "output_type": "stream",
          "name": "stderr",
          "text": [
            "\n",
            "Extracting Dataset Version Zip to Apple-Detection-1 in yolov8:: 100%|██████████| 1407/1407 [00:00<00:00, 11022.96it/s]\n"
          ]
        }
      ]
    },
    {
      "cell_type": "code",
      "source": [
        "!yolo task=detect mode=train model=yolov8m.pt data={dataset.location}/data.yaml epochs=20 imgsz=640"
      ],
      "metadata": {
        "colab": {
          "base_uri": "https://localhost:8080/"
        },
        "id": "I0WZQCXHOpP2",
        "outputId": "f1abd8ff-9c81-41d2-b230-773d1e3dfeb9"
      },
      "execution_count": 6,
      "outputs": [
        {
          "output_type": "stream",
          "name": "stdout",
          "text": [
            "Ultralytics YOLOv8.0.223 🚀 Python-3.10.12 torch-2.1.0+cu118 CUDA:0 (Tesla T4, 15102MiB)\n",
            "\u001b[34m\u001b[1mengine/trainer: \u001b[0mtask=detect, mode=train, model=yolov8m.pt, data=/content/Apple-Detection-1/data.yaml, epochs=20, patience=50, batch=16, imgsz=640, save=True, save_period=-1, cache=False, device=None, workers=8, project=None, name=train2, exist_ok=False, pretrained=True, optimizer=auto, verbose=True, seed=0, deterministic=True, single_cls=False, rect=False, cos_lr=False, close_mosaic=10, resume=False, amp=True, fraction=1.0, profile=False, freeze=None, overlap_mask=True, mask_ratio=4, dropout=0.0, val=True, split=val, save_json=False, save_hybrid=False, conf=None, iou=0.7, max_det=300, half=False, dnn=False, plots=True, source=None, vid_stride=1, stream_buffer=False, visualize=False, augment=False, agnostic_nms=False, classes=None, retina_masks=False, show=False, save_frames=False, save_txt=False, save_conf=False, save_crop=False, show_labels=True, show_conf=True, show_boxes=True, line_width=None, format=torchscript, keras=False, optimize=False, int8=False, dynamic=False, simplify=False, opset=None, workspace=4, nms=False, lr0=0.01, lrf=0.01, momentum=0.937, weight_decay=0.0005, warmup_epochs=3.0, warmup_momentum=0.8, warmup_bias_lr=0.1, box=7.5, cls=0.5, dfl=1.5, pose=12.0, kobj=1.0, label_smoothing=0.0, nbs=64, hsv_h=0.015, hsv_s=0.7, hsv_v=0.4, degrees=0.0, translate=0.1, scale=0.5, shear=0.0, perspective=0.0, flipud=0.0, fliplr=0.5, mosaic=1.0, mixup=0.0, copy_paste=0.0, cfg=None, tracker=botsort.yaml, save_dir=runs/detect/train2\n",
            "Downloading https://ultralytics.com/assets/Arial.ttf to '/root/.config/Ultralytics/Arial.ttf'...\n",
            "100% 755k/755k [00:00<00:00, 105MB/s]\n",
            "2023-12-07 05:35:43.868878: E tensorflow/compiler/xla/stream_executor/cuda/cuda_dnn.cc:9342] Unable to register cuDNN factory: Attempting to register factory for plugin cuDNN when one has already been registered\n",
            "2023-12-07 05:35:43.868936: E tensorflow/compiler/xla/stream_executor/cuda/cuda_fft.cc:609] Unable to register cuFFT factory: Attempting to register factory for plugin cuFFT when one has already been registered\n",
            "2023-12-07 05:35:43.868980: E tensorflow/compiler/xla/stream_executor/cuda/cuda_blas.cc:1518] Unable to register cuBLAS factory: Attempting to register factory for plugin cuBLAS when one has already been registered\n",
            "Overriding model.yaml nc=80 with nc=1\n",
            "\n",
            "                   from  n    params  module                                       arguments                     \n",
            "  0                  -1  1      1392  ultralytics.nn.modules.conv.Conv             [3, 48, 3, 2]                 \n",
            "  1                  -1  1     41664  ultralytics.nn.modules.conv.Conv             [48, 96, 3, 2]                \n",
            "  2                  -1  2    111360  ultralytics.nn.modules.block.C2f             [96, 96, 2, True]             \n",
            "  3                  -1  1    166272  ultralytics.nn.modules.conv.Conv             [96, 192, 3, 2]               \n",
            "  4                  -1  4    813312  ultralytics.nn.modules.block.C2f             [192, 192, 4, True]           \n",
            "  5                  -1  1    664320  ultralytics.nn.modules.conv.Conv             [192, 384, 3, 2]              \n",
            "  6                  -1  4   3248640  ultralytics.nn.modules.block.C2f             [384, 384, 4, True]           \n",
            "  7                  -1  1   1991808  ultralytics.nn.modules.conv.Conv             [384, 576, 3, 2]              \n",
            "  8                  -1  2   3985920  ultralytics.nn.modules.block.C2f             [576, 576, 2, True]           \n",
            "  9                  -1  1    831168  ultralytics.nn.modules.block.SPPF            [576, 576, 5]                 \n",
            " 10                  -1  1         0  torch.nn.modules.upsampling.Upsample         [None, 2, 'nearest']          \n",
            " 11             [-1, 6]  1         0  ultralytics.nn.modules.conv.Concat           [1]                           \n",
            " 12                  -1  2   1993728  ultralytics.nn.modules.block.C2f             [960, 384, 2]                 \n",
            " 13                  -1  1         0  torch.nn.modules.upsampling.Upsample         [None, 2, 'nearest']          \n",
            " 14             [-1, 4]  1         0  ultralytics.nn.modules.conv.Concat           [1]                           \n",
            " 15                  -1  2    517632  ultralytics.nn.modules.block.C2f             [576, 192, 2]                 \n",
            " 16                  -1  1    332160  ultralytics.nn.modules.conv.Conv             [192, 192, 3, 2]              \n",
            " 17            [-1, 12]  1         0  ultralytics.nn.modules.conv.Concat           [1]                           \n",
            " 18                  -1  2   1846272  ultralytics.nn.modules.block.C2f             [576, 384, 2]                 \n",
            " 19                  -1  1   1327872  ultralytics.nn.modules.conv.Conv             [384, 384, 3, 2]              \n",
            " 20             [-1, 9]  1         0  ultralytics.nn.modules.conv.Concat           [1]                           \n",
            " 21                  -1  2   4207104  ultralytics.nn.modules.block.C2f             [960, 576, 2]                 \n",
            " 22        [15, 18, 21]  1   3776275  ultralytics.nn.modules.head.Detect           [1, [192, 384, 576]]          \n",
            "Model summary: 295 layers, 25856899 parameters, 25856883 gradients, 79.1 GFLOPs\n",
            "\n",
            "Transferred 469/475 items from pretrained weights\n",
            "\u001b[34m\u001b[1mTensorBoard: \u001b[0mStart with 'tensorboard --logdir runs/detect/train2', view at http://localhost:6006/\n",
            "Freezing layer 'model.22.dfl.conv.weight'\n",
            "\u001b[34m\u001b[1mAMP: \u001b[0mrunning Automatic Mixed Precision (AMP) checks with YOLOv8n...\n",
            "Downloading https://github.com/ultralytics/assets/releases/download/v0.0.0/yolov8n.pt to 'yolov8n.pt'...\n",
            "100% 6.23M/6.23M [00:00<00:00, 338MB/s]\n",
            "\u001b[34m\u001b[1mAMP: \u001b[0mchecks passed ✅\n",
            "\u001b[34m\u001b[1mtrain: \u001b[0mScanning /content/Apple-Detection-1/train/labels... 553 images, 0 backgrounds, 0 corrupt: 100% 553/553 [00:00<00:00, 1624.50it/s]\n",
            "\u001b[34m\u001b[1mtrain: \u001b[0mNew cache created: /content/Apple-Detection-1/train/labels.cache\n",
            "\u001b[34m\u001b[1malbumentations: \u001b[0mBlur(p=0.01, blur_limit=(3, 7)), MedianBlur(p=0.01, blur_limit=(3, 7)), ToGray(p=0.01), CLAHE(p=0.01, clip_limit=(1, 4.0), tile_grid_size=(8, 8))\n",
            "\u001b[34m\u001b[1mval: \u001b[0mScanning /content/Apple-Detection-1/valid/labels... 146 images, 0 backgrounds, 0 corrupt: 100% 146/146 [00:00<00:00, 834.90it/s]\n",
            "\u001b[34m\u001b[1mval: \u001b[0mNew cache created: /content/Apple-Detection-1/valid/labels.cache\n",
            "Plotting labels to runs/detect/train2/labels.jpg... \n",
            "\u001b[34m\u001b[1moptimizer:\u001b[0m 'optimizer=auto' found, ignoring 'lr0=0.01' and 'momentum=0.937' and determining best 'optimizer', 'lr0' and 'momentum' automatically... \n",
            "\u001b[34m\u001b[1moptimizer:\u001b[0m AdamW(lr=0.002, momentum=0.9) with parameter groups 77 weight(decay=0.0), 84 weight(decay=0.0005), 83 bias(decay=0.0)\n",
            "Image sizes 640 train, 640 val\n",
            "Using 2 dataloader workers\n",
            "Logging results to \u001b[1mruns/detect/train2\u001b[0m\n",
            "Starting training for 20 epochs...\n",
            "\n",
            "      Epoch    GPU_mem   box_loss   cls_loss   dfl_loss  Instances       Size\n",
            "       1/20      6.91G      1.273      1.552      1.506         67        640: 100% 35/35 [00:21<00:00,  1.63it/s]\n",
            "                 Class     Images  Instances      Box(P          R      mAP50  mAP50-95): 100% 5/5 [00:03<00:00,  1.59it/s]\n",
            "                   all        146        572      0.732      0.411      0.542      0.283\n",
            "\n",
            "      Epoch    GPU_mem   box_loss   cls_loss   dfl_loss  Instances       Size\n",
            "       2/20      7.11G      1.383      1.158      1.552         92        640: 100% 35/35 [00:17<00:00,  2.02it/s]\n",
            "                 Class     Images  Instances      Box(P          R      mAP50  mAP50-95): 100% 5/5 [00:02<00:00,  2.44it/s]\n",
            "                   all        146        572     0.0242      0.278     0.0121    0.00292\n",
            "\n",
            "      Epoch    GPU_mem   box_loss   cls_loss   dfl_loss  Instances       Size\n",
            "       3/20         7G      1.394       1.21      1.564         65        640: 100% 35/35 [00:17<00:00,  2.03it/s]\n",
            "                 Class     Images  Instances      Box(P          R      mAP50  mAP50-95): 100% 5/5 [00:02<00:00,  1.91it/s]\n",
            "                   all        146        572     0.0008     0.0612   0.000425   0.000157\n",
            "\n",
            "      Epoch    GPU_mem   box_loss   cls_loss   dfl_loss  Instances       Size\n",
            "       4/20      7.11G      1.439      1.221      1.582         67        640: 100% 35/35 [00:17<00:00,  2.05it/s]\n",
            "                 Class     Images  Instances      Box(P          R      mAP50  mAP50-95): 100% 5/5 [00:02<00:00,  2.45it/s]\n",
            "                   all        146        572      0.101      0.231     0.0462     0.0182\n",
            "\n",
            "      Epoch    GPU_mem   box_loss   cls_loss   dfl_loss  Instances       Size\n",
            "       5/20      7.13G      1.381      1.114      1.554         51        640: 100% 35/35 [00:17<00:00,  2.04it/s]\n",
            "                 Class     Images  Instances      Box(P          R      mAP50  mAP50-95): 100% 5/5 [00:02<00:00,  2.34it/s]\n",
            "                   all        146        572      0.575      0.643      0.594      0.328\n",
            "\n",
            "      Epoch    GPU_mem   box_loss   cls_loss   dfl_loss  Instances       Size\n",
            "       6/20      7.03G      1.368      1.101      1.516         31        640: 100% 35/35 [00:17<00:00,  2.00it/s]\n",
            "                 Class     Images  Instances      Box(P          R      mAP50  mAP50-95): 100% 5/5 [00:02<00:00,  2.39it/s]\n",
            "                   all        146        572      0.651      0.669       0.67       0.39\n",
            "\n",
            "      Epoch    GPU_mem   box_loss   cls_loss   dfl_loss  Instances       Size\n",
            "       7/20      6.92G      1.284      1.029      1.458         37        640: 100% 35/35 [00:18<00:00,  1.93it/s]\n",
            "                 Class     Images  Instances      Box(P          R      mAP50  mAP50-95): 100% 5/5 [00:02<00:00,  2.41it/s]\n",
            "                   all        146        572       0.82      0.739      0.835      0.534\n",
            "\n",
            "      Epoch    GPU_mem   box_loss   cls_loss   dfl_loss  Instances       Size\n",
            "       8/20      7.02G      1.275     0.9865       1.45         57        640: 100% 35/35 [00:17<00:00,  1.99it/s]\n",
            "                 Class     Images  Instances      Box(P          R      mAP50  mAP50-95): 100% 5/5 [00:02<00:00,  2.10it/s]\n",
            "                   all        146        572      0.757      0.748      0.816      0.513\n",
            "\n",
            "      Epoch    GPU_mem   box_loss   cls_loss   dfl_loss  Instances       Size\n",
            "       9/20       7.1G      1.243     0.9259       1.44         90        640: 100% 35/35 [00:17<00:00,  2.02it/s]\n",
            "                 Class     Images  Instances      Box(P          R      mAP50  mAP50-95): 100% 5/5 [00:02<00:00,  2.39it/s]\n",
            "                   all        146        572      0.821      0.779      0.848      0.542\n",
            "\n",
            "      Epoch    GPU_mem   box_loss   cls_loss   dfl_loss  Instances       Size\n",
            "      10/20      7.04G      1.239     0.9109       1.44         61        640: 100% 35/35 [00:17<00:00,  2.01it/s]\n",
            "                 Class     Images  Instances      Box(P          R      mAP50  mAP50-95): 100% 5/5 [00:02<00:00,  2.25it/s]\n",
            "                   all        146        572      0.778      0.822      0.869      0.566\n",
            "Closing dataloader mosaic\n",
            "\u001b[34m\u001b[1malbumentations: \u001b[0mBlur(p=0.01, blur_limit=(3, 7)), MedianBlur(p=0.01, blur_limit=(3, 7)), ToGray(p=0.01), CLAHE(p=0.01, clip_limit=(1, 4.0), tile_grid_size=(8, 8))\n",
            "\n",
            "      Epoch    GPU_mem   box_loss   cls_loss   dfl_loss  Instances       Size\n",
            "      11/20      7.13G      1.214      0.872      1.447         28        640: 100% 35/35 [00:18<00:00,  1.85it/s]\n",
            "                 Class     Images  Instances      Box(P          R      mAP50  mAP50-95): 100% 5/5 [00:02<00:00,  2.38it/s]\n",
            "                   all        146        572      0.794      0.822      0.878      0.571\n",
            "\n",
            "      Epoch    GPU_mem   box_loss   cls_loss   dfl_loss  Instances       Size\n",
            "      12/20      7.15G        1.2     0.8337      1.445         52        640: 100% 35/35 [00:17<00:00,  2.00it/s]\n",
            "                 Class     Images  Instances      Box(P          R      mAP50  mAP50-95): 100% 5/5 [00:02<00:00,  2.40it/s]\n",
            "                   all        146        572      0.795      0.834      0.891      0.575\n",
            "\n",
            "      Epoch    GPU_mem   box_loss   cls_loss   dfl_loss  Instances       Size\n",
            "      13/20       7.1G      1.163     0.8191      1.423         21        640: 100% 35/35 [00:17<00:00,  2.04it/s]\n",
            "                 Class     Images  Instances      Box(P          R      mAP50  mAP50-95): 100% 5/5 [00:02<00:00,  2.41it/s]\n",
            "                   all        146        572      0.835      0.799      0.884      0.577\n",
            "\n",
            "      Epoch    GPU_mem   box_loss   cls_loss   dfl_loss  Instances       Size\n",
            "      14/20      7.15G      1.165     0.7836      1.411         54        640: 100% 35/35 [00:17<00:00,  2.00it/s]\n",
            "                 Class     Images  Instances      Box(P          R      mAP50  mAP50-95): 100% 5/5 [00:02<00:00,  2.19it/s]\n",
            "                   all        146        572      0.825      0.834      0.901      0.606\n",
            "\n",
            "      Epoch    GPU_mem   box_loss   cls_loss   dfl_loss  Instances       Size\n",
            "      15/20      7.14G      1.151     0.7483        1.4         49        640: 100% 35/35 [00:17<00:00,  2.04it/s]\n",
            "                 Class     Images  Instances      Box(P          R      mAP50  mAP50-95): 100% 5/5 [00:02<00:00,  2.42it/s]\n",
            "                   all        146        572      0.868      0.801      0.905      0.621\n",
            "\n",
            "      Epoch    GPU_mem   box_loss   cls_loss   dfl_loss  Instances       Size\n",
            "      16/20      7.15G        1.1     0.7367      1.362         44        640: 100% 35/35 [00:17<00:00,  2.00it/s]\n",
            "                 Class     Images  Instances      Box(P          R      mAP50  mAP50-95): 100% 5/5 [00:02<00:00,  2.34it/s]\n",
            "                   all        146        572       0.86      0.787      0.887        0.6\n",
            "\n",
            "      Epoch    GPU_mem   box_loss   cls_loss   dfl_loss  Instances       Size\n",
            "      17/20      7.13G      1.103     0.7157      1.366         30        640: 100% 35/35 [00:17<00:00,  2.03it/s]\n",
            "                 Class     Images  Instances      Box(P          R      mAP50  mAP50-95): 100% 5/5 [00:02<00:00,  2.39it/s]\n",
            "                   all        146        572      0.845      0.792      0.888      0.599\n",
            "\n",
            "      Epoch    GPU_mem   box_loss   cls_loss   dfl_loss  Instances       Size\n",
            "      18/20      7.12G      1.093      0.694       1.35         53        640: 100% 35/35 [00:17<00:00,  2.01it/s]\n",
            "                 Class     Images  Instances      Box(P          R      mAP50  mAP50-95): 100% 5/5 [00:02<00:00,  2.09it/s]\n",
            "                   all        146        572       0.88      0.811      0.914      0.624\n",
            "\n",
            "      Epoch    GPU_mem   box_loss   cls_loss   dfl_loss  Instances       Size\n",
            "      19/20      7.05G      1.072     0.6522      1.338         47        640: 100% 35/35 [00:17<00:00,  2.01it/s]\n",
            "                 Class     Images  Instances      Box(P          R      mAP50  mAP50-95): 100% 5/5 [00:02<00:00,  2.40it/s]\n",
            "                   all        146        572      0.885       0.82      0.917       0.64\n",
            "\n",
            "      Epoch    GPU_mem   box_loss   cls_loss   dfl_loss  Instances       Size\n",
            "      20/20      7.12G      1.047     0.6484      1.331         33        640: 100% 35/35 [00:17<00:00,  2.02it/s]\n",
            "                 Class     Images  Instances      Box(P          R      mAP50  mAP50-95): 100% 5/5 [00:02<00:00,  2.08it/s]\n",
            "                   all        146        572      0.886       0.82      0.926      0.635\n",
            "\n",
            "20 epochs completed in 0.125 hours.\n",
            "Optimizer stripped from runs/detect/train2/weights/last.pt, 52.0MB\n",
            "Optimizer stripped from runs/detect/train2/weights/best.pt, 52.0MB\n",
            "\n",
            "Validating runs/detect/train2/weights/best.pt...\n",
            "Ultralytics YOLOv8.0.223 🚀 Python-3.10.12 torch-2.1.0+cu118 CUDA:0 (Tesla T4, 15102MiB)\n",
            "Model summary (fused): 218 layers, 25840339 parameters, 0 gradients, 78.7 GFLOPs\n",
            "                 Class     Images  Instances      Box(P          R      mAP50  mAP50-95): 100% 5/5 [00:05<00:00,  1.11s/it]\n",
            "                   all        146        572      0.885       0.82      0.917      0.639\n",
            "Speed: 0.2ms preprocess, 10.5ms inference, 0.0ms loss, 5.6ms postprocess per image\n",
            "Results saved to \u001b[1mruns/detect/train2\u001b[0m\n",
            "💡 Learn more at https://docs.ultralytics.com/modes/train\n"
          ]
        }
      ]
    },
    {
      "cell_type": "code",
      "source": [
        "!yolo task=detect mode=val model=/content/runs/detect/train2/weights/best.pt data={dataset.location}/data.yaml"
      ],
      "metadata": {
        "colab": {
          "base_uri": "https://localhost:8080/"
        },
        "id": "sxSWW3PIQ43L",
        "outputId": "d59a281e-e647-4891-dd70-fd463e435874"
      },
      "execution_count": 8,
      "outputs": [
        {
          "output_type": "stream",
          "name": "stdout",
          "text": [
            "Ultralytics YOLOv8.0.223 🚀 Python-3.10.12 torch-2.1.0+cu118 CUDA:0 (Tesla T4, 15102MiB)\n",
            "Model summary (fused): 218 layers, 25840339 parameters, 0 gradients, 78.7 GFLOPs\n",
            "\u001b[34m\u001b[1mval: \u001b[0mScanning /content/Apple-Detection-1/valid/labels.cache... 146 images, 0 backgrounds, 0 corrupt: 100% 146/146 [00:00<?, ?it/s]\n",
            "                 Class     Images  Instances      Box(P          R      mAP50  mAP50-95): 100% 10/10 [00:06<00:00,  1.44it/s]\n",
            "                   all        146        572      0.885       0.82      0.917      0.639\n",
            "Speed: 3.6ms preprocess, 21.1ms inference, 0.0ms loss, 2.5ms postprocess per image\n",
            "Results saved to \u001b[1mruns/detect/val\u001b[0m\n",
            "💡 Learn more at https://docs.ultralytics.com/modes/val\n"
          ]
        }
      ]
    },
    {
      "cell_type": "code",
      "source": [
        "!yolo task=detect mode=predict model=/content/runs/detect/train2/weights/best.pt conf=0.5 source=/content/Apple-Detection-1/valid/images save_txt=true save_conf=true\n"
      ],
      "metadata": {
        "id": "k__02GSIS9bT",
        "colab": {
          "base_uri": "https://localhost:8080/"
        },
        "outputId": "7b92ea3a-6c96-4101-a3df-74fc1cff8c01"
      },
      "execution_count": 10,
      "outputs": [
        {
          "output_type": "stream",
          "name": "stdout",
          "text": [
            "Ultralytics YOLOv8.0.223 🚀 Python-3.10.12 torch-2.1.0+cu118 CUDA:0 (Tesla T4, 15102MiB)\n",
            "Model summary (fused): 218 layers, 25840339 parameters, 0 gradients, 78.7 GFLOPs\n",
            "\n",
            "image 1/146 /content/Apple-Detection-1/valid/images/apple--295-_jpg.rf.3e30750b242fc97bfdd68553fd996d91.jpg: 640x640 6 apples, 36.9ms\n",
            "image 2/146 /content/Apple-Detection-1/valid/images/apple--296-_jpg.rf.9c1cbad3e358ffd9640553739d8fc415.jpg: 640x640 2 apples, 35.2ms\n",
            "image 3/146 /content/Apple-Detection-1/valid/images/apple--297-_jpg.rf.438204baf3c1717b5c2758adefc07905.jpg: 640x640 1 apple, 33.1ms\n",
            "image 4/146 /content/Apple-Detection-1/valid/images/apple--298-_jpg.rf.04ac1387971444827a604d43e2991694.jpg: 640x640 4 apples, 32.1ms\n",
            "image 5/146 /content/Apple-Detection-1/valid/images/apple--299-_jpg.rf.ea03b79125bfdbcfd45514d13b178acf.jpg: 640x640 1 apple, 32.1ms\n",
            "image 6/146 /content/Apple-Detection-1/valid/images/apple--300-_jpg.rf.0dca72937bc26b811a9cc4270a17a61e.jpg: 640x640 6 apples, 32.0ms\n",
            "image 7/146 /content/Apple-Detection-1/valid/images/apple--301-_jpg.rf.528060d83ab477715a73a5b40dec7d93.jpg: 640x640 1 apple, 20.8ms\n",
            "image 8/146 /content/Apple-Detection-1/valid/images/apple--302-_jpg.rf.4b9d5966c6dc23357a6a3560a78fee95.jpg: 640x640 1 apple, 19.3ms\n",
            "image 9/146 /content/Apple-Detection-1/valid/images/apple--303-_jpg.rf.b01b3efa446acc3e1c815b751cc2ccf2.jpg: 640x640 12 apples, 19.1ms\n",
            "image 10/146 /content/Apple-Detection-1/valid/images/apple--304-_jpg.rf.4d2627faef23d28a0fff424cdcedd65c.jpg: 640x640 4 apples, 19.6ms\n",
            "image 11/146 /content/Apple-Detection-1/valid/images/apple--305-_jpg.rf.b4edf325ef2a382abd94ad4d4bdc5247.jpg: 640x640 1 apple, 19.1ms\n",
            "image 12/146 /content/Apple-Detection-1/valid/images/apple--306-_jpg.rf.1957ed71c6a5e703b9da3d1b4654e80b.jpg: 640x640 1 apple, 19.5ms\n",
            "image 13/146 /content/Apple-Detection-1/valid/images/apple--307-_jpg.rf.4c2b99de1d5111400c0351d2713d0319.jpg: 640x640 9 apples, 19.2ms\n",
            "image 14/146 /content/Apple-Detection-1/valid/images/apple--308-_jpg.rf.5cffaf0d3c85394a6249c71ea1a83362.jpg: 640x640 1 apple, 18.5ms\n",
            "image 15/146 /content/Apple-Detection-1/valid/images/apple--309-_jpg.rf.44f956b11cfff1ae042f4010b5c26a66.jpg: 640x640 2 apples, 19.0ms\n",
            "image 16/146 /content/Apple-Detection-1/valid/images/apple--310-_jpg.rf.4ef590a32581c90fa234c6f92ab0ac50.jpg: 640x640 2 apples, 18.3ms\n",
            "image 17/146 /content/Apple-Detection-1/valid/images/apple--311-_jpg.rf.dba396145a6acc6f64cde02ae5cfbe72.jpg: 640x640 2 apples, 17.9ms\n",
            "image 18/146 /content/Apple-Detection-1/valid/images/apple--312-_jpg.rf.15971036050e4b3d253ac32beb4e31e2.jpg: 640x640 7 apples, 19.7ms\n",
            "image 19/146 /content/Apple-Detection-1/valid/images/apple--313-_jpg.rf.4d7ed1cb13d5e541a244a7d92cae0540.jpg: 640x640 9 apples, 18.3ms\n",
            "image 20/146 /content/Apple-Detection-1/valid/images/apple--314-_jpg.rf.8f5e89c3be3c79cbd2a6d8314369d391.jpg: 640x640 2 apples, 18.8ms\n",
            "image 21/146 /content/Apple-Detection-1/valid/images/apple--315-_jpg.rf.af026381c3a615e9a4635c5f2d125834.jpg: 640x640 7 apples, 18.5ms\n",
            "image 22/146 /content/Apple-Detection-1/valid/images/apple--316-_jpg.rf.c80b30b686ffaddfbe0f93679ff222e7.jpg: 640x640 9 apples, 17.8ms\n",
            "image 23/146 /content/Apple-Detection-1/valid/images/apple--317-_jpg.rf.d81e898c525526a7e6a2eb42680e64aa.jpg: 640x640 1 apple, 18.7ms\n",
            "image 24/146 /content/Apple-Detection-1/valid/images/apple--318-_jpg.rf.3373d9629ca4a813ce13505facd5f93a.jpg: 640x640 2 apples, 17.8ms\n",
            "image 25/146 /content/Apple-Detection-1/valid/images/apple--319-_jpg.rf.3b64a8ecd94afdba53c265d83310559d.jpg: 640x640 3 apples, 18.9ms\n",
            "image 26/146 /content/Apple-Detection-1/valid/images/apple--320-_jpg.rf.26f2536506d0428dbbce0845270818b4.jpg: 640x640 1 apple, 19.3ms\n",
            "image 27/146 /content/Apple-Detection-1/valid/images/apple--321-_jpg.rf.e4761ae5fd1c5e96cc2df76317a1cc22.jpg: 640x640 8 apples, 18.1ms\n",
            "image 28/146 /content/Apple-Detection-1/valid/images/apple--322-_jpg.rf.f70e8b8ea1304e2a2483f527ca7e682c.jpg: 640x640 9 apples, 18.7ms\n",
            "image 29/146 /content/Apple-Detection-1/valid/images/apple--323-_jpg.rf.5fbec8fc7d026518abf234d7ce39b435.jpg: 640x640 1 apple, 17.7ms\n",
            "image 30/146 /content/Apple-Detection-1/valid/images/apple--324-_jpg.rf.2b2ddabee2047b5b06a331cf8fb21dc1.jpg: 640x640 8 apples, 19.0ms\n",
            "image 31/146 /content/Apple-Detection-1/valid/images/apple--325-_jpg.rf.5b79bb4afe0bbb05d9a41a40a3fe0527.jpg: 640x640 13 apples, 18.3ms\n",
            "image 32/146 /content/Apple-Detection-1/valid/images/apple--326-_jpg.rf.f7ff149d070c6b938531262a90fb111a.jpg: 640x640 3 apples, 18.0ms\n",
            "image 33/146 /content/Apple-Detection-1/valid/images/apple--327-_jpg.rf.c227dca8437d67ecf6e2f5802eff768c.jpg: 640x640 1 apple, 17.4ms\n",
            "image 34/146 /content/Apple-Detection-1/valid/images/apple--328-_jpg.rf.f64af0d146c806daaad09bb379a3e724.jpg: 640x640 2 apples, 18.8ms\n",
            "image 35/146 /content/Apple-Detection-1/valid/images/apple--329-_jpg.rf.5f68918e314ce6f7c284852a6b6b3d0f.jpg: 640x640 5 apples, 18.7ms\n",
            "image 36/146 /content/Apple-Detection-1/valid/images/apple--330-_jpg.rf.416189e6da1ca5297ab46a2ed3db32cd.jpg: 640x640 1 apple, 17.9ms\n",
            "image 37/146 /content/Apple-Detection-1/valid/images/apple--331-_jpg.rf.37fb18991c6c213493549a170d8df95d.jpg: 640x640 11 apples, 18.8ms\n",
            "image 38/146 /content/Apple-Detection-1/valid/images/apple--332-_jpg.rf.09f22428636bada6fa5dcc62598ba902.jpg: 640x640 4 apples, 17.8ms\n",
            "image 39/146 /content/Apple-Detection-1/valid/images/apple--333-_jpg.rf.237506e0ebc8bd630ae6d03cfd1f8dbf.jpg: 640x640 4 apples, 19.6ms\n",
            "image 40/146 /content/Apple-Detection-1/valid/images/apple--334-_jpg.rf.5d7d26a8aa59adc5367b8cb6ca1d328c.jpg: 640x640 7 apples, 18.3ms\n",
            "image 41/146 /content/Apple-Detection-1/valid/images/apple--335-_jpg.rf.5fa36f545cb3ec2b4cdfff14fcfb29e1.jpg: 640x640 6 apples, 19.1ms\n",
            "image 42/146 /content/Apple-Detection-1/valid/images/apple--336-_jpg.rf.e5f4c4a29a077c33703626f287a52472.jpg: 640x640 3 apples, 18.2ms\n",
            "image 43/146 /content/Apple-Detection-1/valid/images/apple--337-_jpg.rf.693845a592b957e7a1547ef176b0e911.jpg: 640x640 20 apples, 18.8ms\n",
            "image 44/146 /content/Apple-Detection-1/valid/images/apple--338-_jpg.rf.9c7ace51ee334f9d2cdde0bf877d34f1.jpg: 640x640 1 apple, 17.7ms\n",
            "image 45/146 /content/Apple-Detection-1/valid/images/apple--339-_jpg.rf.119bfc02b295477d541ec969917774f3.jpg: 640x640 30 apples, 18.8ms\n",
            "image 46/146 /content/Apple-Detection-1/valid/images/apple--340-_jpg.rf.69da99de591e8e811d055e77fe3c57f6.jpg: 640x640 7 apples, 17.7ms\n",
            "image 47/146 /content/Apple-Detection-1/valid/images/apple--341-_jpg.rf.6f4fcee914b668a3fe0f45424e4857d0.jpg: 640x640 10 apples, 17.1ms\n",
            "image 48/146 /content/Apple-Detection-1/valid/images/apple--342-_jpg.rf.ae90ee13dec1236a63f72e7bba9b3711.jpg: 640x640 6 apples, 18.1ms\n",
            "image 49/146 /content/Apple-Detection-1/valid/images/apple--343-_jpg.rf.03ae939df93391275eff074ab08fc912.jpg: 640x640 10 apples, 17.5ms\n",
            "image 50/146 /content/Apple-Detection-1/valid/images/apple--344-_jpg.rf.a3180bdfb00aee3777e440651e7a4fa1.jpg: 640x640 3 apples, 18.2ms\n",
            "image 51/146 /content/Apple-Detection-1/valid/images/apple--345-_jpg.rf.627f7df039b63293a8823de27f609bf6.jpg: 640x640 8 apples, 17.7ms\n",
            "image 52/146 /content/Apple-Detection-1/valid/images/apple--346-_jpg.rf.667d5b55febdf5359a1dfac0f1824c2d.jpg: 640x640 3 apples, 17.6ms\n",
            "image 53/146 /content/Apple-Detection-1/valid/images/apple--347-_jpg.rf.902d52405e725b981f655a2ed57bb1d9.jpg: 640x640 2 apples, 19.0ms\n",
            "image 54/146 /content/Apple-Detection-1/valid/images/apple--348-_jpg.rf.940bee78feab5a0dcf99cc864a2d0f72.jpg: 640x640 5 apples, 18.0ms\n",
            "image 55/146 /content/Apple-Detection-1/valid/images/apple--349-_jpg.rf.af2c6d7db97c69aff439357a7d216156.jpg: 640x640 5 apples, 18.1ms\n",
            "image 56/146 /content/Apple-Detection-1/valid/images/apple--350-_jpg.rf.dd93868f149d313fb17edc3d0121caeb.jpg: 640x640 1 apple, 18.8ms\n",
            "image 57/146 /content/Apple-Detection-1/valid/images/apple--351-_jpg.rf.94aa3a4763bc5f2166bc8a0f4d94cc99.jpg: 640x640 2 apples, 17.8ms\n",
            "image 58/146 /content/Apple-Detection-1/valid/images/apple--352-_jpg.rf.547a53b000c2c4283f09bd08843af00c.jpg: 640x640 3 apples, 19.4ms\n",
            "image 59/146 /content/Apple-Detection-1/valid/images/apple--353-_jpg.rf.82bafcc474635b1a924c751d3a08f1a4.jpg: 640x640 12 apples, 18.7ms\n",
            "image 60/146 /content/Apple-Detection-1/valid/images/apple--354-_jpg.rf.e3b343d6aa4b07d0407f097a5956710a.jpg: 640x640 5 apples, 18.1ms\n",
            "image 61/146 /content/Apple-Detection-1/valid/images/apple--355-_jpg.rf.3678864430bfa6fd74b140758192293a.jpg: 640x640 4 apples, 18.2ms\n",
            "image 62/146 /content/Apple-Detection-1/valid/images/apple--356-_jpg.rf.1c1b9fc85e7d328335b164bef4f0779f.jpg: 640x640 3 apples, 17.9ms\n",
            "image 63/146 /content/Apple-Detection-1/valid/images/apple--357-_jpg.rf.ae318d57ead7c21f5b46fc7d7b6d6581.jpg: 640x640 5 apples, 19.5ms\n",
            "image 64/146 /content/Apple-Detection-1/valid/images/apple--358-_jpg.rf.a54ae95d4fd5a49e27ce361be0d7fa62.jpg: 640x640 5 apples, 18.5ms\n",
            "image 65/146 /content/Apple-Detection-1/valid/images/apple--359-_jpg.rf.6bd108f20dc3d634e6693e25989b1beb.jpg: 640x640 3 apples, 18.1ms\n",
            "image 66/146 /content/Apple-Detection-1/valid/images/apple--360-_jpg.rf.2b676f626c6d952869f656348ced8216.jpg: 640x640 2 apples, 18.9ms\n",
            "image 67/146 /content/Apple-Detection-1/valid/images/apple--361-_jpg.rf.3bd59349d61744200679a994cbee010f.jpg: 640x640 8 apples, 17.9ms\n",
            "image 68/146 /content/Apple-Detection-1/valid/images/apple--362-_jpg.rf.49c1cec894dee4d0424aedd323420771.jpg: 640x640 1 apple, 19.1ms\n",
            "image 69/146 /content/Apple-Detection-1/valid/images/apple--363-_jpg.rf.6046be0878512abd0436bce59c2a5605.jpg: 640x640 3 apples, 18.2ms\n",
            "image 70/146 /content/Apple-Detection-1/valid/images/apple--364-_jpg.rf.67fcaf6e1f85d6eb997057f2ad06dca0.jpg: 640x640 2 apples, 17.7ms\n",
            "image 71/146 /content/Apple-Detection-1/valid/images/apple--365-_jpg.rf.2ab06cb23d922ae1a7b42342ab732ba9.jpg: 640x640 1 apple, 19.2ms\n",
            "image 72/146 /content/Apple-Detection-1/valid/images/apple--366-_jpg.rf.3883d83c8dd2ec98112472c6b7ab02ae.jpg: 640x640 1 apple, 19.0ms\n",
            "image 73/146 /content/Apple-Detection-1/valid/images/apple--367-_jpg.rf.4ec267b7ec3f21d81e2de16df1b23f9b.jpg: 640x640 3 apples, 18.1ms\n",
            "image 74/146 /content/Apple-Detection-1/valid/images/apple--368-_jpg.rf.bd762393837d83a3d1a9fcdab37173d6.jpg: 640x640 1 apple, 19.1ms\n",
            "image 75/146 /content/Apple-Detection-1/valid/images/apple--369-_jpg.rf.9c8191938ba471a3500f64a0f4939b3b.jpg: 640x640 3 apples, 19.1ms\n",
            "image 76/146 /content/Apple-Detection-1/valid/images/damaged_apple--270-_jpg.rf.13bc71db1676533242997fd45e984bc4.jpg: 640x640 1 apple, 18.1ms\n",
            "image 77/146 /content/Apple-Detection-1/valid/images/damaged_apple--271-_jpg.rf.ccf73254db3667c9119d44d891a5d57a.jpg: 640x640 2 apples, 19.6ms\n",
            "image 78/146 /content/Apple-Detection-1/valid/images/damaged_apple--272-_jpg.rf.3b6d6315f4277c6fa55ff0145a6a49f1.jpg: 640x640 3 apples, 19.6ms\n",
            "image 79/146 /content/Apple-Detection-1/valid/images/damaged_apple--273-_jpg.rf.275cf2d80080c97127bcc767e6504f9a.jpg: 640x640 1 apple, 18.4ms\n",
            "image 80/146 /content/Apple-Detection-1/valid/images/damaged_apple--274-_jpg.rf.5255d4e855f4ccd31d015a36a7d5aa46.jpg: 640x640 4 apples, 19.2ms\n",
            "image 81/146 /content/Apple-Detection-1/valid/images/damaged_apple--275-_jpg.rf.9da46e109400a9db19aabc409a1bc76f.jpg: 640x640 1 apple, 19.5ms\n",
            "image 82/146 /content/Apple-Detection-1/valid/images/damaged_apple--276-_jpg.rf.105d3bd5834d8d4f964e869b3bfc6546.jpg: 640x640 1 apple, 18.3ms\n",
            "image 83/146 /content/Apple-Detection-1/valid/images/damaged_apple--277-_jpg.rf.914f87eac52ff08fd4469a3109dc39c5.jpg: 640x640 3 apples, 19.2ms\n",
            "image 84/146 /content/Apple-Detection-1/valid/images/damaged_apple--278-_jpg.rf.d79e77d72f72929e5ce87acb65b8f451.jpg: 640x640 7 apples, 19.7ms\n",
            "image 85/146 /content/Apple-Detection-1/valid/images/damaged_apple--279-_jpg.rf.b2093e2bf78985836fa39afc523d7ed4.jpg: 640x640 1 apple, 18.2ms\n",
            "image 86/146 /content/Apple-Detection-1/valid/images/damaged_apple--281-_jpg.rf.b6e53c4b46f62bf24c9040289353133a.jpg: 640x640 1 apple, 19.1ms\n",
            "image 87/146 /content/Apple-Detection-1/valid/images/damaged_apple--283-_jpg.rf.f736331d723561b5c7624ba2b1a52142.jpg: 640x640 1 apple, 18.8ms\n",
            "image 88/146 /content/Apple-Detection-1/valid/images/damaged_apple--284-_jpg.rf.ec72a236fd3e24ff5ba85c605e0e6e82.jpg: 640x640 1 apple, 18.2ms\n",
            "image 89/146 /content/Apple-Detection-1/valid/images/damaged_apple--285-_jpg.rf.c4fea9794e66d49236e8d196e1e7024f.jpg: 640x640 1 apple, 19.4ms\n",
            "image 90/146 /content/Apple-Detection-1/valid/images/damaged_apple--286-_jpg.rf.5e6a6336139943905647d91b9a423fd1.jpg: 640x640 (no detections), 19.6ms\n",
            "image 91/146 /content/Apple-Detection-1/valid/images/damaged_apple--287-_jpg.rf.9e2f96cb0b2891d3b4eba49f51e97eb5.jpg: 640x640 15 apples, 19.3ms\n",
            "image 92/146 /content/Apple-Detection-1/valid/images/damaged_apple--288-_jpg.rf.09788d1d608566365f632c538fa253d8.jpg: 640x640 1 apple, 18.6ms\n",
            "image 93/146 /content/Apple-Detection-1/valid/images/damaged_apple--289-_jpg.rf.c3e7eb4a93528e8251a5e8fa4965d0bd.jpg: 640x640 1 apple, 18.2ms\n",
            "image 94/146 /content/Apple-Detection-1/valid/images/damaged_apple--290-_jpg.rf.dc13a992242cce95b9c55b1ceb9dfa6a.jpg: 640x640 2 apples, 17.9ms\n",
            "image 95/146 /content/Apple-Detection-1/valid/images/damaged_apple--291-_jpg.rf.e80a3196dc7107449b83d95d660c6b20.jpg: 640x640 1 apple, 19.3ms\n",
            "image 96/146 /content/Apple-Detection-1/valid/images/damaged_apple--292-_jpg.rf.acd5dec16e6c4603e41e5ccb9b3bc54a.jpg: 640x640 5 apples, 19.6ms\n",
            "image 97/146 /content/Apple-Detection-1/valid/images/damaged_apple--293-_jpg.rf.b38c821f79dd7fd4ff24b590e4dacdc8.jpg: 640x640 1 apple, 18.1ms\n",
            "image 98/146 /content/Apple-Detection-1/valid/images/damaged_apple--294-_jpg.rf.cc4dc02d9628598ec119dee68b785b49.jpg: 640x640 7 apples, 19.1ms\n",
            "image 99/146 /content/Apple-Detection-1/valid/images/damaged_apple--295-_jpg.rf.a8dcb75c4779f333f819e836bdffea8d.jpg: 640x640 1 apple, 18.6ms\n",
            "image 100/146 /content/Apple-Detection-1/valid/images/damaged_apple--296-_jpg.rf.84d9e7504c31887499c8ccaa54262ba7.jpg: 640x640 4 apples, 18.2ms\n",
            "image 101/146 /content/Apple-Detection-1/valid/images/damaged_apple--297-_jpg.rf.1539d5b732709bb707bab0c806e3e4cb.jpg: 640x640 1 apple, 19.7ms\n",
            "image 102/146 /content/Apple-Detection-1/valid/images/damaged_apple--298-_jpg.rf.3831de128f08a0820da48ad5e69a7d42.jpg: 640x640 8 apples, 18.8ms\n",
            "image 103/146 /content/Apple-Detection-1/valid/images/damaged_apple--299-_jpg.rf.f8a1c10236e63af38bd84c325949b824.jpg: 640x640 3 apples, 18.0ms\n",
            "image 104/146 /content/Apple-Detection-1/valid/images/damaged_apple--300-_jpg.rf.20f562b116f6bbd55db6d5a0bebe737a.jpg: 640x640 3 apples, 19.1ms\n",
            "image 105/146 /content/Apple-Detection-1/valid/images/damaged_apple--301-_jpg.rf.94d2d51d16b5c5deb0e940b8e5f5793a.jpg: 640x640 2 apples, 18.0ms\n",
            "image 106/146 /content/Apple-Detection-1/valid/images/damaged_apple--302-_jpg.rf.2f8d6e735b87e70d1e4862c033005f01.jpg: 640x640 4 apples, 18.3ms\n",
            "image 107/146 /content/Apple-Detection-1/valid/images/damaged_apple--303-_jpg.rf.37405e2a97ce755af9664d9abbd8bf2c.jpg: 640x640 1 apple, 19.3ms\n",
            "image 108/146 /content/Apple-Detection-1/valid/images/damaged_apple--304-_jpg.rf.d7a80ba0ce74e0096fcadeac30883e10.jpg: 640x640 4 apples, 18.0ms\n",
            "image 109/146 /content/Apple-Detection-1/valid/images/damaged_apple--305-_jpg.rf.7e54056d19af3ef0a1163f3c4a74d815.jpg: 640x640 2 apples, 19.2ms\n",
            "image 110/146 /content/Apple-Detection-1/valid/images/damaged_apple--306-_jpg.rf.88099a33176906690eec25cbbb4d576c.jpg: 640x640 11 apples, 18.8ms\n",
            "image 111/146 /content/Apple-Detection-1/valid/images/damaged_apple--307-_jpg.rf.2cd355b999d3324ff02796e434453777.jpg: 640x640 2 apples, 17.9ms\n",
            "image 112/146 /content/Apple-Detection-1/valid/images/damaged_apple--308-_jpg.rf.9a0220779724b6d29498b5034df1c96f.jpg: 640x640 3 apples, 18.8ms\n",
            "image 113/146 /content/Apple-Detection-1/valid/images/damaged_apple--309-_jpg.rf.7d2418846138fe929dabd181109d4e9a.jpg: 640x640 1 apple, 18.2ms\n",
            "image 114/146 /content/Apple-Detection-1/valid/images/damaged_apple--310-_jpg.rf.1babe7fe69a10048802e5d6e55c4f5e7.jpg: 640x640 5 apples, 17.9ms\n",
            "image 115/146 /content/Apple-Detection-1/valid/images/damaged_apple--311-_jpg.rf.ea4c7b3756460fbfc8c5304ee50943b8.jpg: 640x640 1 apple, 19.9ms\n",
            "image 116/146 /content/Apple-Detection-1/valid/images/damaged_apple--312-_jpg.rf.734f566316084eb0ca717e50333c2765.jpg: 640x640 7 apples, 19.2ms\n",
            "image 117/146 /content/Apple-Detection-1/valid/images/damaged_apple--313-_jpg.rf.23391ab80fe888f10f5ca54220495499.jpg: 640x640 2 apples, 18.4ms\n",
            "image 118/146 /content/Apple-Detection-1/valid/images/damaged_apple--314-_jpg.rf.f4f91554e534c53508eae1dc0093da4e.jpg: 640x640 2 apples, 19.1ms\n",
            "image 119/146 /content/Apple-Detection-1/valid/images/damaged_apple--315-_jpg.rf.04495eaa720f991fca291b8e9ed8b6e6.jpg: 640x640 10 apples, 18.3ms\n",
            "image 120/146 /content/Apple-Detection-1/valid/images/damaged_apple--316-_jpg.rf.2239a4c8e1bd0a021e5b3df3aae17061.jpg: 640x640 1 apple, 18.4ms\n",
            "image 121/146 /content/Apple-Detection-1/valid/images/damaged_apple--317-_jpg.rf.8494d07405670576dac1d28bc990f9d3.jpg: 640x640 1 apple, 18.8ms\n",
            "image 122/146 /content/Apple-Detection-1/valid/images/damaged_apple--318-_jpg.rf.8fa1f97e1925378f696881692b7f18f6.jpg: 640x640 1 apple, 18.6ms\n",
            "image 123/146 /content/Apple-Detection-1/valid/images/damaged_apple--319-_jpg.rf.783d335b8548b5c516efbb4801842661.jpg: 640x640 2 apples, 18.6ms\n",
            "image 124/146 /content/Apple-Detection-1/valid/images/damaged_apple--320-_jpg.rf.805270239d504075f2f69c6f3a906fa5.jpg: 640x640 1 apple, 19.5ms\n",
            "image 125/146 /content/Apple-Detection-1/valid/images/damaged_apple--321-_jpg.rf.a1f640c5b2fa78af56098f9b6af7965d.jpg: 640x640 4 apples, 19.1ms\n",
            "image 126/146 /content/Apple-Detection-1/valid/images/damaged_apple--322-_jpg.rf.fdfac6e6f5b1ce37d9b1dc423ed491a1.jpg: 640x640 1 apple, 18.3ms\n",
            "image 127/146 /content/Apple-Detection-1/valid/images/damaged_apple--323-_jpg.rf.b1c19579e171767a7b28619123e908c2.jpg: 640x640 6 apples, 19.6ms\n",
            "image 128/146 /content/Apple-Detection-1/valid/images/damaged_apple--324-_jpg.rf.0c5965b0e167c7cabaaf578c14d382fc.jpg: 640x640 4 apples, 18.7ms\n",
            "image 129/146 /content/Apple-Detection-1/valid/images/damaged_apple--325-_jpg.rf.ded33b4689d38fc031f7371dc8743d0a.jpg: 640x640 1 apple, 18.1ms\n",
            "image 130/146 /content/Apple-Detection-1/valid/images/damaged_apple--327-_jpg.rf.43fccb61ffa92525a7812b2243ef1c55.jpg: 640x640 1 apple, 19.2ms\n",
            "image 131/146 /content/Apple-Detection-1/valid/images/damaged_apple--328-_jpg.rf.e4026edee5f27901ee61e0596ec5740a.jpg: 640x640 2 apples, 18.8ms\n",
            "image 132/146 /content/Apple-Detection-1/valid/images/damaged_apple--329-_jpg.rf.7cab8ecf627fe1a8f8c2fb208bff5202.jpg: 640x640 2 apples, 18.4ms\n",
            "image 133/146 /content/Apple-Detection-1/valid/images/damaged_apple--330-_jpg.rf.fe4be3d22a0b4f9e760c71d07ca98029.jpg: 640x640 9 apples, 19.7ms\n",
            "image 134/146 /content/Apple-Detection-1/valid/images/damaged_apple--331-_jpg.rf.99a603f355c0f0189ffe7ff70b1b3148.jpg: 640x640 1 apple, 18.1ms\n",
            "image 135/146 /content/Apple-Detection-1/valid/images/damaged_apple--332-_jpg.rf.4aed6e282b2cf7de9cabc586f5322c42.jpg: 640x640 1 apple, 19.1ms\n",
            "image 136/146 /content/Apple-Detection-1/valid/images/damaged_apple--333-_jpg.rf.14d07c269525af6bcc7f39da2519f036.jpg: 640x640 1 apple, 19.2ms\n",
            "image 137/146 /content/Apple-Detection-1/valid/images/damaged_apple--334-_jpg.rf.1a1dca6f9c5d1f927f3c6b099216a457.jpg: 640x640 1 apple, 18.3ms\n",
            "image 138/146 /content/Apple-Detection-1/valid/images/damaged_apple--335-_jpg.rf.e39b8700f8dd11f7d44767355dc8946b.jpg: 640x640 1 apple, 19.0ms\n",
            "image 139/146 /content/Apple-Detection-1/valid/images/damaged_apple--336-_jpg.rf.55dd67a13ed203ae4bb8b15774527816.jpg: 640x640 1 apple, 19.6ms\n",
            "image 140/146 /content/Apple-Detection-1/valid/images/damaged_apple--337-_jpg.rf.eca5a9db189abcdd2209dd619304a4bc.jpg: 640x640 3 apples, 18.2ms\n",
            "image 141/146 /content/Apple-Detection-1/valid/images/damaged_apple--338-_jpg.rf.cb70f817a038208c50f603648e6ec82c.jpg: 640x640 2 apples, 18.9ms\n",
            "image 142/146 /content/Apple-Detection-1/valid/images/damaged_apple--339-_jpg.rf.20cbb688b04988d5680f2bbccf28b825.jpg: 640x640 3 apples, 18.6ms\n",
            "image 143/146 /content/Apple-Detection-1/valid/images/damaged_apple--340-_jpg.rf.fc37353b0916f8c40632f40c891b0f41.jpg: 640x640 1 apple, 17.8ms\n",
            "image 144/146 /content/Apple-Detection-1/valid/images/damaged_apple--341-_jpg.rf.2c91234b279070eaf40eabdda1e2a2b2.jpg: 640x640 3 apples, 19.6ms\n",
            "image 145/146 /content/Apple-Detection-1/valid/images/damaged_apple--342-_jpg.rf.6e6ec0c797c2fec9625807368c55d4e6.jpg: 640x640 2 apples, 18.5ms\n",
            "image 146/146 /content/Apple-Detection-1/valid/images/damaged_apple--344-_jpg.rf.79a487de55befe015cfa8138f569d31b.jpg: 640x640 1 apple, 18.2ms\n",
            "Speed: 1.9ms preprocess, 19.3ms inference, 1.4ms postprocess per image at shape (1, 3, 640, 640)\n",
            "Results saved to \u001b[1mruns/detect/predict\u001b[0m\n",
            "145 labels saved to runs/detect/predict/labels\n",
            "💡 Learn more at https://docs.ultralytics.com/modes/predict\n"
          ]
        }
      ]
    },
    {
      "cell_type": "code",
      "source": [
        "import glob\n",
        "from IPython.display import Image, display\n",
        "\n",
        "for image_path in glob.glob(f\"/content/runs/detect/predict/apple--363-_jpg.rf.6046be0878512abd0436bce59c2a5605.jpg\"):\n",
        "  display(Image(filename=image_path, height=600))\n",
        "  print(\"\\n\")"
      ],
      "metadata": {
        "colab": {
          "base_uri": "https://localhost:8080/",
          "height": 653
        },
        "id": "43LLUMMR3Jmf",
        "outputId": "eb70fd94-4ec6-42f8-e717-f5e8550302e6"
      },
      "execution_count": 25,
      "outputs": [
        {
          "output_type": "display_data",
          "data": {
            "image/jpeg": "[encoded data removed]",
            "text/plain": [
              "<IPython.core.display.Image object>"
            ]
          },
          "metadata": {
            "image/jpeg": {
              "height": 600
            }
          }
        },
        {
          "output_type": "stream",
          "name": "stdout",
          "text": [
            "\n",
            "\n"
          ]
        }
      ]
    },
    {
      "cell_type": "code",
      "source": [],
      "metadata": {
        "id": "1DMXtuJz4hKx"
      },
      "execution_count": null,
      "outputs": []
    }
  ]
}